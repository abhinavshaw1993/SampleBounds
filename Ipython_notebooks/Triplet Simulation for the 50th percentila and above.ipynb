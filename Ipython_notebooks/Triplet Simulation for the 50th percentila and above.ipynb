{
 "cells": [
  {
   "cell_type": "code",
   "execution_count": 1,
   "metadata": {},
   "outputs": [],
   "source": [
    "#### Estimating the values of N, delta and alpha for Order Statistics Bounding technique ####\n",
    "import numpy as np\n",
    "from scipy.stats import beta, uniform\n",
    "import pandas as pd\n",
    "import matplotlib.pyplot as plt\n",
    "import seaborn as sns\n",
    "%matplotlib inline\n",
    "\n",
    "\n",
    "# Sample of size N from a uniform distribution \n",
    "trials = 1000\n",
    "delta_left = 0.5\n",
    "delta_right = 1.0\n",
    "points = 1000\n",
    "obs_list = list()\n",
    "N_values = [50, 100, 200, 400]\n",
    "binding_factor = 0.5 \n",
    "\n",
    "for N in N_values:\n",
    "    for delta in np.linspace(delta_left, delta_right, points):  # Values of delta\n",
    "        \n",
    "        samples = np.random.uniform(size=(trials, N))\n",
    "        ord_stats = np.sort(samples, 1)\n",
    "        \n",
    "        u_limit = np.array([beta.ppf(q=(1+delta)/2.0, a=i, b=N-i+1) for i in range(1, N+1)])\n",
    "        l_limit = np.array([beta.ppf(q=(1-delta)/2.0, a=i, b=N-i+1) for i in range(1, N+1)])\n",
    "        \n",
    "        ord_stats_cdf = uniform.ppf(ord_stats)\n",
    "        violation_counter = 0.0\n",
    "        \n",
    "        for t in range(trials):\n",
    "            # Here we check for 50th percentile and above. This allows us to relax the bounds a little.        t\n",
    "            for i, cdf_value in enumerate(ord_stats_cdf[t, int(binding_factor*N):]):\n",
    "                if cdf_value > u_limit[i] or cdf_value < l_limit[i]:\n",
    "                    violation_counter += 1.0\n",
    "                    break\n",
    "                    \n",
    "        est_alpha_prime = violation_counter / trials\n",
    "        obs_list.append([N, delta, 1.0 - est_alpha_prime])"
   ]
  },
  {
   "cell_type": "code",
   "execution_count": 6,
   "metadata": {},
   "outputs": [
    {
     "name": "stdout",
     "output_type": "stream",
     "text": [
      "    N     delta  alpha\n",
      "0  50  0.500000    0.0\n",
      "1  50  0.500501    0.0\n",
      "2  50  0.501001    0.0\n",
      "3  50  0.501502    0.0\n",
      "4  50  0.502002    0.0\n"
     ]
    }
   ],
   "source": [
    "df = pd.DataFrame(data=obs_list, columns=[\"N\", \"delta\", \"alpha\"])\n",
    "\n",
    "\n",
    "print(df.head())"
   ]
  },
  {
   "cell_type": "code",
   "execution_count": 4,
   "metadata": {},
   "outputs": [
    {
     "data": {
      "image/png": "[encoded data removed]",
      "text/plain": [
       "<matplotlib.figure.Figure at 0x7f682d2039e8>"
      ]
     },
     "metadata": {},
     "output_type": "display_data"
    }
   ],
   "source": [
    "df = pd.DataFrame(data=obs_list, columns=[\"N\", \"delta\", \"alpha\"])\n",
    "from pylab import rcParams\n",
    "rcParams['figure.figsize'] = 10, 10\n",
    "\n",
    "sns.set_style(\"darkgrid\")\n",
    "new_df = df[df[\"delta\"] > 0.5]\n",
    "\n",
    "plt.subplot()\n",
    "for N in N_values:\n",
    "    alpha_values = new_df[new_df[\"N\"] == N].loc[:, [\"alpha\"]]\n",
    "    delta = new_df[new_df[\"N\"] == N].loc[:, [\"delta\"]]\n",
    "    plt.plot(alpha_values, delta, label=\"n=\" + str(N))\n",
    "plt.legend(loc=\"best\")\n",
    "plt.show()"
   ]
  },
  {
   "cell_type": "code",
   "execution_count": null,
   "metadata": {},
   "outputs": [],
   "source": [
    "min_alpha = 0.75\n",
    "\n",
    "\n",
    "plt.subplot()\n",
    "for N in N_values:\n",
    "    alpha_bool = np.logical_and((df[\"N\"] == N),(df[\"alpha\"] > min_alpha))\n",
    "    alpha_values = df[alpha_bool].loc[:, [\"alpha\"]]\n",
    "    delta_values = df[alpha_bool].loc[:, [\"delta\"]]\n",
    "\n",
    "    plt.plot(alpha_values, delta_values, label=\"n=\" + str(N))\n",
    "plt.legend(loc=\"best\")\n",
    "plt.show()"
   ]
  },
  {
   "cell_type": "code",
   "execution_count": null,
   "metadata": {},
   "outputs": [],
   "source": [
    "\n",
    "delta = 0.995\n",
    "\n",
    "# Roughly the same confidence. Want to see how much the actual bounds differ.\n",
    "# Significant performance when we take lower confidence values such as 80% or something.\n",
    "binding_factor = 0.5\n",
    "N = 100\n",
    "fifty_percentile_lower = []\n",
    "fifty_percentile_upper = []\n",
    "both_lower = []\n",
    "both_upper = []\n",
    "\n",
    "for i in range(1, N+1):\n",
    "    if i > ((N+1)*binding_factor):\n",
    "        fifty_percentile_lower.append(beta.ppf(q=(1-delta)/2.0, a=i, b=N-i+1))    \n",
    "        fifty_percentile_upper.append(beta.ppf(q=(1+delta)/2.0, a=i, b=N-i+1))    \n",
    "    else:\n",
    "        fifty_percentile_lower.append(0)\n",
    "        fifty_percentile_upper.append(1)\n",
    "        \n",
    "    both_lower.append(beta.ppf(q=(1-(delta+0.0025))/2.0, a=i, b=N-i+1))\n",
    "    both_upper.append(beta.ppf(q=(1+(delta+0.0025))/2.0, a=i, b=N-i+1))\n",
    "\n",
    "\n",
    "l1 = plt.plot(np.arange(N), fifty_percentile_lower, label=\"Fifty Percentile Lower\")\n",
    "l1 = plt.plot(np.arange(N), fifty_percentile_upper, label=\"Fifty Percentile Upper\")\n",
    "l2 = plt.plot(np.arange(N), both_upper, label=\"Both Upper\")\n",
    "l2 = plt.plot(np.arange(N), both_lower, label=\"Both Lower\")\n",
    "plt.legend(loc=\"best\")"
   ]
  }
 ],
 "metadata": {
  "kernelspec": {
   "display_name": "Python 3",
   "language": "python",
   "name": "python3"
  },
  "language_info": {
   "codemirror_mode": {
    "name": "ipython",
    "version": 3
   },
   "file_extension": ".py",
   "mimetype": "text/x-python",
   "name": "python",
   "nbconvert_exporter": "python",
   "pygments_lexer": "ipython3",
   "version": "3.6.4"
  }
 },
 "nbformat": 4,
 "nbformat_minor": 1
}
