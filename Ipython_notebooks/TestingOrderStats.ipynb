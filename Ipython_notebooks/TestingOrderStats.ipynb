{
 "cells": [
  {
   "cell_type": "code",
   "execution_count": 119,
   "metadata": {},
   "outputs": [
    {
     "name": "stdout",
     "output_type": "stream",
     "text": [
      "upper cdf:  [ 0.97474747]\n",
      "lower cdf:  [ 0.02525253]\n"
     ]
    }
   ],
   "source": [
    "from scipy.stats import beta\n",
    "\n",
    "## delta for N =  1\n",
    "delta = 0.949494949495  # took this value from delta_values.csv\n",
    "\n",
    "u_limit = np.array([beta.ppf(q=(1+delta)/2.0, a=i, b=N-i+1) for i in range(1, N+1)])\n",
    "l_limit = np.array([beta.ppf(q=(1-delta)/2.0, a=i, b=N-i+1) for i in range(1, N+1)])\n",
    "\n",
    "print \"upper cdf: \", u_limit\n",
    "print \"lower cdf: \", l_limit"
   ]
  },
  {
   "cell_type": "code",
   "execution_count": 120,
   "metadata": {},
   "outputs": [
    {
     "name": "stdout",
     "output_type": "stream",
     "text": [
      "('lower bound on mean', 0.51262626499999997)\n",
      "('upper bound on mean', 0.98737373500000003)\n"
     ]
    }
   ],
   "source": [
    "def mean_integral_v1(cdf_values, ord_stats):\n",
    "    cdf_values = np.hstack((0.0, cdf_values, 1.0))\n",
    "    cdf_values = 1.0 - cdf_values\n",
    "    samples = np.hstack((0.0, ord_stats, 1.0))\n",
    "    Fx = cdf_values[:-1] + np.diff(cdf_values)*0.5    \n",
    "    dx = np.diff(samples)\n",
    "    \n",
    "    mean = np.sum(np.multiply(Fx, dx))\n",
    "    return mean\n",
    "\n",
    "\n",
    "\n",
    "order_stats = np.array([1.0])\n",
    "mean_lower_cdf = np.array([0.97474747])\n",
    "mean_upper_cdf = np.array([0.02525253])\n",
    "\n",
    "print(\"lower bound on mean\",mean_integral_v1(mean_lower_cdf, order_stats))\n",
    "print(\"upper bound on mean\",mean_integral_v1(mean_upper_cdf, order_stats))\n"
   ]
  },
  {
   "cell_type": "code",
   "execution_count": 121,
   "metadata": {},
   "outputs": [
    {
     "name": "stdout",
     "output_type": "stream",
     "text": [
      "mean of the distribution:  0.5\n",
      "cdf of the mean of the distribution:  0.707106781187\n",
      "Value of t in the 95th percentile:  [ 0.90171332]\n",
      "cdf value of t:  [ 0.79699211]\n",
      "Lower mean:  0.463482924697\n"
     ]
    }
   ],
   "source": [
    "from scipy.stats import beta\n",
    "\n",
    "N=1\n",
    "T=100000\n",
    "a=0.5\n",
    "b=0.5\n",
    "\n",
    "u_limit = 0.97474747\n",
    "l_limit = 0.02525253\n",
    "violation = 0.0\n",
    "\n",
    "dist_mean = beta.mean(a=a, b=b)\n",
    "print \"mean of the distribution: \", dist_mean\n",
    "print \"cdf of the mean of the distribution: \", beta.cdf(dist_mean, a=0.5, b=1.0)\n",
    "\n",
    "samples = beta.rvs(a=0.5, b=1.0, size=(N, T))\n",
    "sample_cdf_values = np.zeros(T, dtype='float')\n",
    "\n",
    "\n",
    "# for t in xrange(T):\n",
    "#     sample_cdf = beta.cdf(samples[:, t], a=a, b=b)\n",
    "#     if sample_cdf > u_limit or sample_cdf < l_limit:\n",
    "#         violation += 1.0\n",
    "# print \"cdf violations: \", violation/T * 100.0\n",
    "        \n",
    "sorted_z1 = np.sort(samples, axis=1)\n",
    "percentile = int(0.95*T)\n",
    "\n",
    "t = sorted_z1[:, percentile]\n",
    "cdf_t = beta.cdf(t, a=a,b=b)\n",
    "\n",
    "print \"Value of t in the 95th percentile: \", t\n",
    "print \"cdf value of t: \", cdf_t\n",
    "\n",
    "def mean_integral(cdf_values, ord_stats):\n",
    "    cdf_values = np.hstack((0.0, cdf_values, 1.0))\n",
    "    cdf_values = 1.0 - cdf_values\n",
    "    samples = np.hstack((0.0, ord_stats, 1.0))\n",
    "    Fx = cdf_values[:-1] + np.diff(cdf_values)*0.5\n",
    "    dx = np.diff(samples)\n",
    "    \n",
    "    mean = np.sum(np.multiply(Fx, dx))\n",
    "    return mean\n",
    "\n",
    "order_stats = t\n",
    "upper_cdf = np.array([u_limit])\n",
    "lower_cdf = np.array([l_limit])\n",
    "\n",
    "est_lower_mean = mean_integral(upper_cdf, order_stats)\n",
    "# est_upper_mean = mean_integral(lower_cdf, order_stats)\n",
    "print \"Lower mean: \", est_lower_mean\n",
    "# print \"Upper mean: \", est_upper_mean\n"
   ]
  },
  {
   "cell_type": "code",
   "execution_count": 123,
   "metadata": {},
   "outputs": [
    {
     "name": "stdout",
     "output_type": "stream",
     "text": [
      "cdf of the mean of the distribution:  0.5\n",
      "Value of t in the 95th percentile:  [ 0.95044939]\n",
      "cdf value of t:  [ 0.95044939]\n",
      "Lower mean:  0.487850962493\n",
      "Upper mean:  0.962598432493\n"
     ]
    }
   ],
   "source": [
    "from scipy.stats import uniform\n",
    "\n",
    "N=1\n",
    "T=100000\n",
    "loc=0.0\n",
    "scale=1.0\n",
    "\n",
    "u_limit = 0.97474747\n",
    "l_limit = 0.02525253\n",
    "violation = 0.0\n",
    "\n",
    "dist_mean = uniform.mean(loc=loc, scale=scale)\n",
    "print \"cdf of the mean of the distribution: \", uniform.cdf(dist_mean, loc=loc, scale=scale)\n",
    "\n",
    "samples = uniform.rvs(loc=loc, scale=scale, size=(N, T))\n",
    "sample_cdf_values = np.zeros(T, dtype='float')\n",
    "\n",
    "\n",
    "# for t in xrange(T):\n",
    "#     sample_cdf = uniform.cdf(samples[:, t], loc=loc, scale=scale)\n",
    "#     if sample_cdf > u_limit or sample_cdf < l_limit:\n",
    "#         violation += 1.0\n",
    "# print \"cdf violations: \", violation/T * 100.0\n",
    "        \n",
    "sorted_z1 = np.sort(samples, axis=1)\n",
    "percentile = int(0.95*T)\n",
    "\n",
    "t = sorted_z1[:, percentile]\n",
    "cdf_t = uniform.cdf(t, loc=loc, scale=scale)\n",
    "\n",
    "print \"Value of t in the 95th percentile: \", t\n",
    "print \"cdf value of t: \", cdf_t\n",
    "\n",
    "def mean_integral(cdf_values, ord_stats):\n",
    "    cdf_values = np.hstack((0.0, cdf_values, 1.0))\n",
    "    cdf_values = 1.0 - cdf_values\n",
    "    samples = np.hstack((0.0, ord_stats, 1.0))\n",
    "    Fx = cdf_values[:-1] + np.diff(cdf_values)*0.5\n",
    "    dx = np.diff(samples)\n",
    "    \n",
    "    mean = np.sum(np.multiply(Fx, dx))\n",
    "    return mean\n",
    "\n",
    "order_stats = np.array(t)\n",
    "upper_cdf = np.array([u_limit])\n",
    "lower_cdf = np.array([l_limit])\n",
    "\n",
    "est_lower_mean = mean_integral(upper_cdf, order_stats)\n",
    "est_upper_mean = mean_integral(lower_cdf, order_stats)\n",
    "print \"Lower mean: \", est_lower_mean\n",
    "print \"Upper mean: \", est_upper_mean"
   ]
  },
  {
   "cell_type": "code",
   "execution_count": 114,
   "metadata": {},
   "outputs": [
    {
     "name": "stdout",
     "output_type": "stream",
     "text": [
      "cdf value:  0.812403840464\n"
     ]
    }
   ],
   "source": [
    "print \"cdf value: \", beta.cdf(0.66, a=0.5, b=1.0)"
   ]
  },
  {
   "cell_type": "code",
   "execution_count": null,
   "metadata": {
    "collapsed": true
   },
   "outputs": [],
   "source": []
  }
 ],
 "metadata": {
  "kernelspec": {
   "display_name": "Python 2",
   "language": "python",
   "name": "python2"
  },
  "language_info": {
   "codemirror_mode": {
    "name": "ipython",
    "version": 2
   },
   "file_extension": ".py",
   "mimetype": "text/x-python",
   "name": "python",
   "nbconvert_exporter": "python",
   "pygments_lexer": "ipython2",
   "version": "2.7.13"
  }
 },
 "nbformat": 4,
 "nbformat_minor": 2
}
