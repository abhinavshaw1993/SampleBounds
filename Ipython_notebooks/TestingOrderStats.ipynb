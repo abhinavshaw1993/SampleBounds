{
 "cells": [
  {
   "cell_type": "code",
   "execution_count": 2,
   "metadata": {},
   "outputs": [
    {
     "name": "stdout",
     "output_type": "stream",
     "text": [
      "minimum value of sample:  0.107802404384\n",
      "maximum value of sample:  0.999607351328\n",
      "distribution mean:  0.5\n",
      "sample mean (all samples):  0.658286169728\n",
      "sample mean of a random trial:  0.97781253223\n"
     ]
    },
    {
     "name": "stderr",
     "output_type": "stream",
     "text": [
      "/home/nkumar/anaconda2/lib/python2.7/site-packages/statsmodels/compat/pandas.py:56: FutureWarning: The pandas.core.datetools module is deprecated and will be removed in a future version. Please use the pandas.tseries module instead.\n",
      "  from pandas.core import datetools\n"
     ]
    }
   ],
   "source": [
    "import numpy as np\n",
    "from scipy.stats import norm, beta, uniform, truncnorm\n",
    "import seaborn as sns\n",
    "import statsmodels.api as sm\n",
    "import matplotlib.pyplot as plt\n",
    "%matplotlib inline\n",
    "\n",
    "N=1\n",
    "T=10\n",
    "# a=0.5\n",
    "# b=1.0\n",
    "left = 0.0\n",
    "stdev = 0.1\n",
    "mean = 0.5\n",
    "right = 1.0\n",
    "\n",
    "a, b = (left - mean) / stdev, (right - mean) / stdev\n",
    "\n",
    "samples = uniform.rvs(loc=0.0, scale=1.0, size=(N, T))\n",
    "# samples = beta.rvs(a=a, b=b, size=(N, T))\n",
    "# samples = truncnorm.rvs(a=a, b=b, loc=mean, scale=stdev, size=(N, T))\n",
    "ord_stats = np.sort(samples, axis=0)\n",
    "\n",
    "dist_mean = uniform.mean(loc=0.0, scale=1.0)\n",
    "# dist_mean = beta.mean(a=a, b=b)\n",
    "# dist_mean = truncnorm.mean(a=a, b=b, loc=mean, scale=stdev)\n",
    "\n",
    "sample_mean = np.mean(samples)\n",
    "print \"minimum value of sample: \", np.min(samples)\n",
    "print \"maximum value of sample: \", np.max(samples)\n",
    "print \"distribution mean: \", dist_mean\n",
    "print \"sample mean (all samples): \", sample_mean\n",
    "print \"sample mean of a random trial: \", np.mean(samples[:, np.random.randint(low=0, high=T)])"
   ]
  },
  {
   "cell_type": "code",
   "execution_count": 3,
   "metadata": {},
   "outputs": [
    {
     "name": "stdout",
     "output_type": "stream",
     "text": [
      "upper cdf:  [ 0.97474747]\n",
      "lower cdf:  [ 0.02525253]\n"
     ]
    }
   ],
   "source": [
    "## delta for N =  1\n",
    "delta = 0.949494949495  # took this value from delta_values.csv\n",
    "\n",
    "u_limit = np.array([beta.ppf(q=(1+delta)/2.0, a=i, b=N-i+1) for i in range(1, N+1)])\n",
    "l_limit = np.array([beta.ppf(q=(1-delta)/2.0, a=i, b=N-i+1) for i in range(1, N+1)])\n",
    "\n",
    "print \"upper cdf: \", u_limit\n",
    "print \"lower cdf: \", l_limit\n",
    "\n",
    "cdf_values = []\n",
    "for t in xrange(T):\n",
    "#     cdf_values.append(uniform.cdf(x=ord_stats[:, t], loc=0.0, scale=1.0))\n",
    "#     cdf_values.append(beta.cdf(x=ord_stats[:, t], a=a, b=b))\n",
    "    cdf_values.append(truncnorm.cdf(x=ord_stats[:, t], a=a, b=b, loc=mean, scale=stdev))\n",
    "    \n",
    "cdf_values = np.array(cdf_values)\n",
    "#print \"Max cdf value: \", max(cdf_values)\n",
    "#print \"Min cdf_value: \", min(cdf_values)\n",
    "\n",
    "# plt.plot([1]*T, cdf_values, label='Sample CDF')\n",
    "# plt.plot([1], u_limit, label='Upper CDF', linewidth=5.0)\n",
    "# plt.plot([1], l_limit, label='Lower CDF', linewidth=5.0)\n",
    "# # plt.legend(loc='best')\n",
    "\n",
    "# # CDF violations\n",
    "# u_violation = l_violation = 0.0\n",
    "\n",
    "# for t in xrange(T):\n",
    "#     if cdf_values[t] > u_limit[0]:\n",
    "#         u_violation += 1\n",
    "#     if cdf_values[t] < l_limit[0]:\n",
    "#         l_violation += 1\n",
    "        \n",
    "# print \"upper cdf violation: \", u_violation/T * 100.0\n",
    "# print \"upper cdf violation: \", l_violation/T * 100.0"
   ]
  },
  {
   "cell_type": "code",
   "execution_count": 4,
   "metadata": {
    "collapsed": true
   },
   "outputs": [],
   "source": [
    "def mean_integral_v1(cdf_values, ord_stats):\n",
    "    cdf_values = np.hstack((0.0, cdf_values))\n",
    "    samples = np.hstack((0.0, ord_stats))\n",
    "    \n",
    "    Fx = cdf_values[:-1] + np.diff(cdf_values)*0.5\n",
    "    dx = np.diff(samples)\n",
    "    print \"printing dx\"+str(dx)\n",
    "    print \"printing Fx\"+str(1-Fx)\n",
    "    mean = np.sum(np.multiply((1-Fx), dx))\n",
    "    return mean"
   ]
  },
  {
   "cell_type": "code",
   "execution_count": 5,
   "metadata": {},
   "outputs": [
    {
     "name": "stdout",
     "output_type": "stream",
     "text": [
      "printing dx[ 0.98602168]\n",
      "printing Fx[ 0.98737374]\n",
      "printing dx[ 0.98602168]\n",
      "printing Fx[ 0.51262626]\n",
      "printing dx[ 0.64399206]\n",
      "printing Fx[ 0.98737374]\n",
      "printing dx[ 0.64399206]\n",
      "printing Fx[ 0.51262626]\n",
      "printing dx[ 0.50039917]\n",
      "printing Fx[ 0.98737374]\n",
      "printing dx[ 0.50039917]\n",
      "printing Fx[ 0.51262626]\n",
      "printing dx[ 0.62697537]\n",
      "printing Fx[ 0.98737374]\n",
      "printing dx[ 0.62697537]\n",
      "printing Fx[ 0.51262626]\n",
      "printing dx[ 0.38517708]\n",
      "printing Fx[ 0.98737374]\n",
      "printing dx[ 0.38517708]\n",
      "printing Fx[ 0.51262626]\n",
      "printing dx[ 0.97781253]\n",
      "printing Fx[ 0.98737374]\n",
      "printing dx[ 0.97781253]\n",
      "printing Fx[ 0.51262626]\n",
      "printing dx[ 0.66012906]\n",
      "printing Fx[ 0.98737374]\n",
      "printing dx[ 0.66012906]\n",
      "printing Fx[ 0.51262626]\n",
      "printing dx[ 0.1078024]\n",
      "printing Fx[ 0.98737374]\n",
      "printing dx[ 0.1078024]\n",
      "printing Fx[ 0.51262626]\n",
      "printing dx[ 0.99960735]\n",
      "printing Fx[ 0.98737374]\n",
      "printing dx[ 0.99960735]\n",
      "printing Fx[ 0.51262626]\n",
      "printing dx[ 0.69494498]\n",
      "printing Fx[ 0.98737374]\n",
      "printing dx[ 0.69494498]\n",
      "printing Fx[ 0.51262626]\n",
      "upper mean violation percentage:  30.0\n",
      "lower mean violation percentage:  30.0\n"
     ]
    }
   ],
   "source": [
    "upper_mean = np.zeros(shape=T)\n",
    "lower_mean = np.zeros(shape=T)\n",
    "\n",
    "u_violation = l_violation = 0.0\n",
    "\n",
    "for t in xrange(T):\n",
    "    upper_mean[t] = mean_integral_v1(l_limit, ord_stats[:, t])\n",
    "    lower_mean[t] = mean_integral_v1(u_limit, ord_stats[:, t])\n",
    "    if upper_mean[t] < dist_mean:\n",
    "        u_violation += 1\n",
    "    if lower_mean[t] > dist_mean:\n",
    "        l_violation += 1\n",
    "        \n",
    "print \"upper mean violation percentage: \", u_violation/T * 100.0\n",
    "print \"lower mean violation percentage: \", l_violation/T * 100.0"
   ]
  },
  {
   "cell_type": "code",
   "execution_count": 6,
   "metadata": {},
   "outputs": [
    {
     "name": "stdout",
     "output_type": "stream",
     "text": [
      "percentile of mean:  0.333333333333\n"
     ]
    }
   ],
   "source": [
    "print \"percentile of mean: \", beta.cdf(beta.mean(a=0.5, b=1), a=1.0, b=1.0)"
   ]
  },
  {
   "cell_type": "code",
   "execution_count": 116,
   "metadata": {},
   "outputs": [
    {
     "name": "stdout",
     "output_type": "stream",
     "text": [
      "('lower bound on mean', 0.51262626499999997)\n",
      "('upper bound on mean', 0.98737373500000003)\n"
     ]
    }
   ],
   "source": [
    "def mean_integral_v1(cdf_values, ord_stats):\n",
    "    cdf_values = np.hstack((0.0, cdf_values, 1.0))\n",
    "    cdf_values = 1.0 - cdf_values\n",
    "    \n",
    "#     print \"cdf_values: \", cdf_values\n",
    "    \n",
    "    samples = np.hstack((0.0, ord_stats, 1.0))\n",
    "#     print \"samples: \", samples\n",
    "    \n",
    "    Fx = cdf_values[:-1] + np.diff(cdf_values)*0.5\n",
    "#     print \"Fx values: \", Fx\n",
    "    \n",
    "    dx = np.diff(samples)\n",
    "#     print \"dx values: \", dx\n",
    "    \n",
    "    mean = np.sum(np.multiply(Fx, dx))\n",
    "    return mean\n",
    "\n",
    "\n",
    "\n",
    "order_stats = np.array([1.0])\n",
    "mean_lower_cdf = np.array([0.97474747])\n",
    "mean_upper_cdf = np.array([0.02525253])\n",
    "\n",
    "print(\"lower bound on mean\",mean_integral_v1(mean_lower_cdf, order_stats))\n",
    "print(\"upper bound on mean\",mean_integral_v1(mean_upper_cdf, order_stats))\n"
   ]
  },
  {
   "cell_type": "code",
   "execution_count": 118,
   "metadata": {},
   "outputs": [
    {
     "name": "stdout",
     "output_type": "stream",
     "text": [
      "mean of the distribution:  0.5\n",
      "cdf of the mean of the distribution:  0.707106781187\n",
      "Value of t in the 95th percentile:  [ 0.90347958]\n",
      "cdf value of t:  [ 0.79888827]\n",
      "Lower mean:  0.464366054214\n"
     ]
    }
   ],
   "source": [
    "from scipy.stats import beta\n",
    "\n",
    "N=1\n",
    "T=100000\n",
    "a=0.5\n",
    "b=0.5\n",
    "\n",
    "u_limit = 0.97474747\n",
    "l_limit = 0.02525253\n",
    "violation = 0.0\n",
    "\n",
    "dist_mean = beta.mean(a=a, b=b)\n",
    "print \"mean of the distribution: \", dist_mean\n",
    "print \"cdf of the mean of the distribution: \", beta.cdf(dist_mean, a=0.5, b=1.0)\n",
    "\n",
    "samples = beta.rvs(a=0.5, b=1.0, size=(N, T))\n",
    "sample_cdf_values = np.zeros(T, dtype='float')\n",
    "\n",
    "\n",
    "# for t in xrange(T):\n",
    "#     sample_cdf = beta.cdf(samples[:, t], a=a, b=b)\n",
    "#     if sample_cdf > u_limit or sample_cdf < l_limit:\n",
    "#         violation += 1.0\n",
    "# print \"cdf violations: \", violation/T * 100.0\n",
    "        \n",
    "sorted_z1 = np.sort(samples, axis=1)\n",
    "percentile = int(0.95*T)\n",
    "\n",
    "t = sorted_z1[:, percentile]\n",
    "cdf_t = beta.cdf(t, a=a,b=b)\n",
    "\n",
    "print \"Value of t in the 95th percentile: \", t\n",
    "print \"cdf value of t: \", cdf_t\n",
    "\n",
    "def mean_integral(cdf_values, ord_stats):\n",
    "    cdf_values = np.hstack((0.0, cdf_values, 1.0))\n",
    "    cdf_values = 1.0 - cdf_values\n",
    "    samples = np.hstack((0.0, ord_stats, 1.0))\n",
    "    Fx = cdf_values[:-1] + np.diff(cdf_values)*0.5\n",
    "    dx = np.diff(samples)\n",
    "    \n",
    "    mean = np.sum(np.multiply(Fx, dx))\n",
    "    return mean\n",
    "\n",
    "order_stats = t\n",
    "upper_cdf = np.array([u_limit])\n",
    "lower_cdf = np.array([l_limit])\n",
    "\n",
    "est_lower_mean = mean_integral(upper_cdf, order_stats)\n",
    "# est_upper_mean = mean_integral(lower_cdf, order_stats)\n",
    "print \"Lower mean: \", est_lower_mean\n",
    "# print \"Upper mean: \", est_upper_mean\n"
   ]
  },
  {
   "cell_type": "code",
   "execution_count": 102,
   "metadata": {},
   "outputs": [
    {
     "name": "stdout",
     "output_type": "stream",
     "text": [
      "cdf of the mean of the distribution:  0.5\n",
      "Value of t in the 95th percentile:  [ 0.94952955]\n",
      "cdf value of t:  [ 0.94952955]\n"
     ]
    }
   ],
   "source": [
    "from scipy.stats import uniform\n",
    "\n",
    "N=1\n",
    "T=100000\n",
    "loc=0.0\n",
    "scale=1.0\n",
    "\n",
    "u_limit = 0.97474747\n",
    "l_limit = 0.02525253\n",
    "violation = 0.0\n",
    "\n",
    "dist_mean = uniform.mean(loc=loc, scale=scale)\n",
    "print \"cdf of the mean of the distribution: \", uniform.cdf(dist_mean, loc=loc, scale=scale)\n",
    "\n",
    "samples = uniform.rvs(loc=loc, scale=scale, size=(N, T))\n",
    "sample_cdf_values = np.zeros(T, dtype='float')\n",
    "\n",
    "\n",
    "# for t in xrange(T):\n",
    "#     sample_cdf = uniform.cdf(samples[:, t], loc=loc, scale=scale)\n",
    "#     if sample_cdf > u_limit or sample_cdf < l_limit:\n",
    "#         violation += 1.0\n",
    "# print \"cdf violations: \", violation/T * 100.0\n",
    "        \n",
    "sorted_z1 = np.sort(samples, axis=1)\n",
    "percentile = int(0.95*T)\n",
    "\n",
    "t = sorted_z1[:, percentile]\n",
    "cdf_t = uniform.cdf(t, loc=loc, scale=scale)\n",
    "\n",
    "print \"Value of t in the 95th percentile: \", t\n",
    "print \"cdf value of t: \", cdf_t\n",
    "\n",
    "def mean_integral(cdf_values, ord_stats):\n",
    "    cdf_values = np.hstack((0.0, cdf_values, 1.0))\n",
    "    cdf_values = 1.0 - cdf_values\n",
    "    samples = np.hstack((0.0, ord_stats, 1.0))\n",
    "    Fx = cdf_values[:-1] + np.diff(cdf_values)*0.5\n",
    "    dx = np.diff(samples)\n",
    "    \n",
    "    mean = np.sum(np.multiply(Fx, dx))\n",
    "    return mean\n",
    "\n",
    "order_stats = np.array([t])\n",
    "upper_cdf = np.array([u_limit])\n",
    "lower_cdf = np.array([l_limit])\n",
    "\n",
    "est_lower_mean = mean_integral(upper_cdf, order_stats)\n",
    "est_upper_mean = mean_integral(lower_cdf, order_stats)\n",
    "print \"Lower mean: \", est_lower_mean\n",
    "print \"Upper mean: \", est_upper_mean"
   ]
  },
  {
   "cell_type": "code",
   "execution_count": 114,
   "metadata": {},
   "outputs": [
    {
     "name": "stdout",
     "output_type": "stream",
     "text": [
      "cdf value:  0.812403840464\n"
     ]
    }
   ],
   "source": [
    "print \"cdf value: \", beta.cdf(0.66, a=0.5, b=1.0)"
   ]
  },
  {
   "cell_type": "code",
   "execution_count": null,
   "metadata": {
    "collapsed": true
   },
   "outputs": [],
   "source": []
  }
 ],
 "metadata": {
  "kernelspec": {
   "display_name": "Python 2",
   "language": "python",
   "name": "python2"
  },
  "language_info": {
   "codemirror_mode": {
    "name": "ipython",
    "version": 2
   },
   "file_extension": ".py",
   "mimetype": "text/x-python",
   "name": "python",
   "nbconvert_exporter": "python",
   "pygments_lexer": "ipython2",
   "version": "2.7.13"
  }
 },
 "nbformat": 4,
 "nbformat_minor": 2
}
