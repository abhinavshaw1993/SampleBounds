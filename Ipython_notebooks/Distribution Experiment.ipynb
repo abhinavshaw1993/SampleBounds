{
 "cells": [
  {
   "cell_type": "code",
   "execution_count": 8,
   "metadata": {},
   "outputs": [
    {
     "name": "stdout",
     "output_type": "stream",
     "text": [
      "1.0 1.0 2.0 6.0\n",
      "0\n",
      "0.6\n"
     ]
    }
   ],
   "source": [
    "from scipy.stats import expon\n",
    "import numpy as np\n",
    "\n",
    "# Testing truncated exponential through Manual truncation.\n",
    "print (mean, var, skew, kurt)\n",
    "N, T = (100, 100)\n",
    "samples = expon.rvs(loc=0.5 , scale=0.1, size=(N, T))\n",
    "\n",
    "counter = 0\n",
    "for i in range(N):\n",
    "    if samples[i,1] < 0 or samples[i,1] > 1:\n",
    "        counter += 1\n",
    "\n",
    "print(counter)\n",
    "mean, var, skew, kurt = expon.stats(moments='mvsk')\n",
    "mean = expon.mean(loc=0.5, scale=0.1)\n",
    "print(mean)\n"
   ]
  },
  {
   "cell_type": "code",
   "execution_count": 48,
   "metadata": {},
   "outputs": [
    {
     "name": "stdout",
     "output_type": "stream",
     "text": [
      "[[0.44633267 0.47926699 0.39433286 ... 0.41047019 0.55441121 0.50791586]\n",
      " [0.4651784  0.48085817 0.59154625 ... 0.50297385 0.42981757 0.54530524]\n",
      " [0.71172822 0.38204191 0.63403142 ... 0.4864599  0.62245383 0.54008153]\n",
      " ...\n",
      " [0.48697204 0.52943489 0.559189   ... 0.46345829 0.51884151 0.55105757]\n",
      " [0.4078895  0.62680223 0.5956542  ... 0.50980734 0.55728029 0.43129639]\n",
      " [0.57236352 0.53974485 0.61381152 ... 0.44394015 0.41060608 0.37628342]]\n"
     ]
    },
    {
     "data": {
      "image/png": "[encoded data removed]",
      "text/plain": [
       "<matplotlib.figure.Figure at 0x7f4fc775d5f8>"
      ]
     },
     "metadata": {},
     "output_type": "display_data"
    }
   ],
   "source": [
    "from scipy.stats import norm \n",
    "import seaborn as sns\n",
    "import matplotlib.pyplot as plt\n",
    "N = 100\n",
    "\n",
    "samples = norm.rvs(loc=0.5 , scale=0.1, size=(N, T))\n",
    "# mean = expon.mean(loc=0, scale=0.1)\n",
    "# print(\"True Mean\", mean)\n",
    "# print(\"Sample Mean\", np.mean(samples))\n",
    "# print(\"Samples\", samples)\n",
    "\n",
    "\n",
    "\n",
    "# Truncating samples and making them in betwee 0,1.\n",
    "\n",
    "\n",
    "zeros = np.full(shape=samples.shape,fill_value=0)\n",
    "ones = np.full(shape=samples.shape,fill_value=1)\n",
    "\n",
    "less_indices = np.less(samples, zeros)\n",
    "greater_indices = np.greater(samples, ones)\n",
    "\n",
    "samples[greater_indices] = 1\n",
    "samples[less_indices] = 0\n",
    "\n",
    "print(samples)\n",
    "sns.distplot(samples[:,1], bins=10)\n",
    "plt.show()"
   ]
  },
  {
   "cell_type": "code",
   "execution_count": 61,
   "metadata": {},
   "outputs": [
    {
     "name": "stdout",
     "output_type": "stream",
     "text": [
      "True Mean 0.6000000000000001\n",
      "Sample Mean 0.5949717685912566\n"
     ]
    }
   ],
   "source": [
    "\n",
    "N = 100\n",
    "samples = expon.rvs(loc=0.4 , scale=0.2, size=(N, T))\n",
    "mean = expon.mean(loc=0.4, scale=0.2)\n",
    "print(\"True Mean\", mean)\n",
    "print(\"Sample Mean\", np.mean(samples[:,1]))"
   ]
  },
  {
   "cell_type": "code",
   "execution_count": null,
   "metadata": {},
   "outputs": [],
   "source": []
  },
  {
   "cell_type": "code",
   "execution_count": null,
   "metadata": {},
   "outputs": [],
   "source": []
  },
  {
   "cell_type": "code",
   "execution_count": null,
   "metadata": {},
   "outputs": [],
   "source": []
  }
 ],
 "metadata": {
  "kernelspec": {
   "display_name": "Python 3",
   "language": "python",
   "name": "python3"
  },
  "language_info": {
   "codemirror_mode": {
    "name": "ipython",
    "version": 3
   },
   "file_extension": ".py",
   "mimetype": "text/x-python",
   "name": "python",
   "nbconvert_exporter": "python",
   "pygments_lexer": "ipython3",
   "version": "3.6.4"
  }
 },
 "nbformat": 4,
 "nbformat_minor": 2
}
